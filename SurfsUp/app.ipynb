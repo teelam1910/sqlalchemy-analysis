{
 "cells": [
  {
   "cell_type": "markdown",
   "id": "2111bc9d",
   "metadata": {},
   "source": [
    "## Import the dependencies."
   ]
  },
  {
   "cell_type": "code",
   "execution_count": 1,
   "id": "5654b324",
   "metadata": {},
   "outputs": [],
   "source": [
    "import numpy as np\n",
    "from flask import Flask, jsonify\n",
    "from sqlalchemy import create_engine\n",
    "from sqlalchemy.orm import Session\n",
    "from sqlalchemy.ext.automap import automap_base\n",
    "\n",
    "\n",
    "\n",
    "\n",
    "\n",
    "\n",
    "\n",
    "\n",
    "\n",
    "\n",
    "\n",
    "\n",
    "\n",
    "\n"
   ]
  },
  {
   "cell_type": "markdown",
   "id": "844aee1f",
   "metadata": {},
   "source": [
    "#################################################\n",
    "# Database Setup\n",
    "#################################################"
   ]
  },
  {
   "cell_type": "code",
   "execution_count": 2,
   "id": "0034a014",
   "metadata": {},
   "outputs": [],
   "source": [
    "engine = create_engine(\"sqlite:///Resources/hawaii.sqlite\")\n",
    "\n",
    "## reflect an existing database into a new model\n",
    "Base = automap_base()\n",
    "\n",
    "## reflect the tables\n",
    "Base.prepare(engine, reflect=True)\n",
    "\n",
    "## Save references to each table\n",
    "Measurement = Base.classes.measurement\n",
    "Station = Base.classes.station\n",
    "\n",
    "## Create our session (link) from Python to the DB\n",
    "session = Session(engine) \n"
   ]
  },
  {
   "cell_type": "markdown",
   "id": "071f43d1",
   "metadata": {},
   "source": [
    "#################################################\n",
    "## Flask Setup\n",
    "#################################################"
   ]
  },
  {
   "cell_type": "code",
   "execution_count": 3,
   "id": "246d728b",
   "metadata": {},
   "outputs": [],
   "source": [
    "app = Flask(__name__)"
   ]
  },
  {
   "cell_type": "markdown",
   "id": "4f8ea751",
   "metadata": {},
   "source": [
    "#################################################\n",
    "## Flask Routes\n",
    "#################################################"
   ]
  },
  {
   "cell_type": "code",
   "execution_count": 4,
   "id": "5230aae8",
   "metadata": {},
   "outputs": [
    {
     "name": "stdout",
     "output_type": "stream",
     "text": [
      " * Serving Flask app '__main__'\n",
      " * Debug mode: on\n"
     ]
    },
    {
     "name": "stderr",
     "output_type": "stream",
     "text": [
      "WARNING: This is a development server. Do not use it in a production deployment. Use a production WSGI server instead.\n",
      " * Running on http://127.0.0.1:5000\n",
      "Press CTRL+C to quit\n",
      " * Restarting with watchdog (windowsapi)\n"
     ]
    },
    {
     "ename": "SystemExit",
     "evalue": "1",
     "output_type": "error",
     "traceback": [
      "An exception has occurred, use %tb to see the full traceback.\n",
      "\u001b[1;31mSystemExit\u001b[0m\u001b[1;31m:\u001b[0m 1\n"
     ]
    },
    {
     "name": "stderr",
     "output_type": "stream",
     "text": [
      "C:\\Users\\tiffa\\anaconda3\\lib\\site-packages\\IPython\\core\\interactiveshell.py:3468: UserWarning: To exit: use 'exit', 'quit', or Ctrl-D.\n",
      "  warn(\"To exit: use 'exit', 'quit', or Ctrl-D.\", stacklevel=1)\n"
     ]
    }
   ],
   "source": [
    "#1 (/)\n",
    "@app.route(\"/\")\n",
    "def welcome():\n",
    "    \"\"\"List all available api routes.\"\"\"\n",
    "    return (\n",
    "        f\"Available Routes:<br/>\"\n",
    "        f\"/api/v1.0/precipitation<br/>\"\n",
    "        f\"/api/v1.0/stations<br/>\"\n",
    "        f\"/api/v1.0/tobs<br/>\"\n",
    "        f\"/api/v1.0/&lt;start&gt;<br/>\"\n",
    "        f\"/api/v1.0/&lt;start&gt;/&lt;end&gt;<br/>\"\n",
    "    )\n",
    "\n",
    "#2 (/api/v1.0/precipitation)\n",
    "@app.route(\"/api/v1.0/precipitation\")\n",
    "def precipitation():\n",
    "    # Create our session (link) from Python to the DB\n",
    "    session = Session(engine)\n",
    "\n",
    "    \"\"\"Return the JSON representation of your dictionary.\"\"\"\n",
    "    # Query for the dates and precipitation values for the last 12 months\n",
    "    last_year_precipitation = session.query(Measurement.date, Measurement.prcp).\\\n",
    "                                filter(Measurement.date >= '2016-08-23').all()\n",
    "\n",
    "    session.close()\n",
    "\n",
    "    # Convert the query results to a dictionary\n",
    "    precipitation_data = {date: prcp for date, prcp in last_year_precipitation}\n",
    "\n",
    "    return jsonify(precipitation_data)\n",
    "\n",
    "\n",
    "#3 (/api/v1.0/stations)\n",
    "@app.route(\"/api/v1.0/stations\")\n",
    "def stations():\n",
    "    # Create our session (link) from Python to the DB\n",
    "    session = Session(engine)\n",
    "\n",
    "    \"\"\"Return a JSON list of stations from the dataset.\"\"\"\n",
    "    # Query for the stations\n",
    "    stations_list = session.query(Station.station).all()\n",
    "\n",
    "    session.close()\n",
    "\n",
    "    # Convert list of tuples into normal list\n",
    "    stations_list = list(np.ravel(stations_list))\n",
    "\n",
    "    return jsonify(stations_list)\n",
    "\n",
    "\n",
    "#4 (/api/v1.0/tobs)\n",
    "@app.route(\"/api/v1.0/tobs\")\n",
    "def tobs():\n",
    "    # Create our session (link) from Python to the DB\n",
    "    session = Session(engine)\n",
    "\n",
    "    \"\"\"Return a JSON list of temperature observations (TOBS) for the previous year.\"\"\"\n",
    "    # Query for the most active station for the last year of temperature data\n",
    "    most_active_station = session.query(Measurement.station).\\\n",
    "                        group_by(Measurement.station).\\\n",
    "                        order_by(Measurement.station.desc()).first()[0]\n",
    "\n",
    "    # Query for the dates and temperature observations for the most active station for the last year of data\n",
    "    tobs_data = session.query(Measurement.date, Measurement.tobs).\\\n",
    "                    filter(Measurement.station == most_active_station).\\\n",
    "                    filter(Measurement.date >= '2016-08-23').all()\n",
    "\n",
    "    session.close()\n",
    "\n",
    "    # Convert list of tuples into normal list\n",
    "    tobs_list = list(np.ravel(tobs_data))\n",
    "\n",
    "    return jsonify(tobs_list)\n",
    "\n",
    "\n",
    "\n",
    "\n",
    "# #5 part 1 (/api/v1.0/<start>)\n",
    "@app.route(\"/api/v1.0/<start>\")\n",
    "def temperature_stats_start(start):\n",
    "    session = Session(engine)\n",
    "    \n",
    "    # Query for temperature stats\n",
    "    temperature_stats = session.query(\n",
    "        np.min(Measurement.tobs).label('min_temperature'),\n",
    "        np.mean(Measurement.tobs).label('avg_temperature'),\n",
    "        np.max(Measurement.tobs).label('max_temperature')).filter(Measurement.date >= start).all()\n",
    "    \n",
    "    # Close the session\n",
    "    session.close()\n",
    "    \n",
    "    # Convert to JSON format\n",
    "    result = {\n",
    "        \"start_date\": start,\n",
    "        \"end_date\": None,\n",
    "        \"temperature_stats\": [{\n",
    "            \"min_temperature\": stat.min_temperature,\n",
    "            \"avg_temperature\": stat.avg_temperature,\n",
    "            \"max_temperature\": stat.max_temperature\n",
    "        } for stat in temperature_stats]\n",
    "    }\n",
    "    \n",
    "    # Return the JSON response\n",
    "    return jsonify(result)\n",
    "\n",
    "\n",
    "# #5 part 2 (/api/v1.0/<start>/<end>)\n",
    "@app.route(\"/api/v1.0/<start>/<end>\")\n",
    "def temperature_stats_range(start, end):\n",
    "    session = Session(engine)\n",
    "    \n",
    "    # Query for temperature stats within the specified range\n",
    "    temperature_stats = session.query(\n",
    "        np.min(Measurement.tobs).label('min_temperature'),\n",
    "        np.mean(Measurement.tobs).label('avg_temperature'),\n",
    "        np.max(Measurement.tobs).label('max_temperature')).filter(Measurement.date >= start, Measurement.date <= end).all()\n",
    "    \n",
    "    # Close the session\n",
    "    session.close()\n",
    "    \n",
    "    # Convert results to JSON format\n",
    "    result = {\n",
    "        \"start_date\": start,\n",
    "        \"end_date\": end,\n",
    "        \"temperature_stats\": [{\n",
    "            \"min_temperature\": stat.min_temperature,\n",
    "            \"avg_temperature\": stat.avg_temperature,\n",
    "            \"max_temperature\": stat.max_temperature\n",
    "        } for stat in temperature_stats]\n",
    "    }\n",
    "    \n",
    "    # Return the JSON response\n",
    "    return jsonify(result)\n",
    "if __name__ == '__main__':\n",
    "    app.run(debug=True)"
   ]
  }
 ],
 "metadata": {
  "kernelspec": {
   "display_name": "Python 3 (ipykernel)",
   "language": "python",
   "name": "python3"
  },
  "language_info": {
   "codemirror_mode": {
    "name": "ipython",
    "version": 3
   },
   "file_extension": ".py",
   "mimetype": "text/x-python",
   "name": "python",
   "nbconvert_exporter": "python",
   "pygments_lexer": "ipython3",
   "version": "3.10.9"
  }
 },
 "nbformat": 4,
 "nbformat_minor": 5
}
